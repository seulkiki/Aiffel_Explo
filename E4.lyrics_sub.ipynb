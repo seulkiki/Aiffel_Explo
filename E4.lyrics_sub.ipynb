{
 "cells": [
  {
   "cell_type": "markdown",
   "id": "quality-craps",
   "metadata": {},
   "source": [
    "# E4. 멋진 작사가 만들기"
   ]
  },
  {
   "cell_type": "markdown",
   "id": "productive-plaintiff",
   "metadata": {},
   "source": [
    "## 데이터 읽기"
   ]
  },
  {
   "cell_type": "code",
   "execution_count": 1,
   "id": "natural-musician",
   "metadata": {},
   "outputs": [
    {
     "name": "stdout",
     "output_type": "stream",
     "text": [
      "데이터 크기: 187088\n",
      "Examples:\n",
      " ['At first I was afraid', 'I was petrified', 'I kept thinking I could never live without you']\n"
     ]
    }
   ],
   "source": [
    "import glob\n",
    "import os\n",
    "import re\n",
    "import tensorflow as tf\n",
    "\n",
    "from tensorflow.keras import preprocessing\n",
    "from sklearn.model_selection import train_test_split\n",
    "\n",
    "txt_file_path = os.getenv('HOME')+'/aiffel/lyricist/data/lyrics/*'\n",
    "txt_list = glob.glob(txt_file_path)\n",
    "\n",
    "raw_corpus = []\n",
    "\n",
    "\n",
    "# 여러개의 txt 파일을 모두 읽어서 raw_corpus 에 담습니다.\n",
    "\n",
    "for txt_file in txt_list:\n",
    "    with open(txt_file, \"r\") as f:\n",
    "        raw = f.read().splitlines()\n",
    "        raw_corpus.extend(raw)\n",
    "\n",
    "print(\"데이터 크기:\", len(raw_corpus))\n",
    "print(\"Examples:\\n\", raw_corpus[:3])"
   ]
  },
  {
   "cell_type": "markdown",
   "id": "addressed-sandwich",
   "metadata": {},
   "source": [
    " ## 데이터 정제"
   ]
  },
  {
   "cell_type": "code",
   "execution_count": 2,
   "id": "former-mystery",
   "metadata": {},
   "outputs": [
    {
     "name": "stdout",
     "output_type": "stream",
     "text": [
      "<start> at first i was afraid <end>\n"
     ]
    }
   ],
   "source": [
    "# 정규표현식으로 문장 정제하기\n",
    "\n",
    "def preprocess_sentence(sentence):\n",
    "    sentence = sentence.lower().strip() # 소문자 바꾸고 공백 없애기\n",
    "    sentence = re.sub(r\"([?.!,¿])\", r\" \\1 \", sentence)  # 특수문자없애기\n",
    "    sentence = re.sub(r'[\" \"]+', \" \", sentence) # 공백 패턴 하나의 공백\n",
    "    sentence = re.sub(r\"[^a-zA-Z?.!,¿]+\", \" \", sentence) # a-zA-Z?.!,¿가 아닌 모든 문자를 하나의 공백\n",
    "    sentence = sentence.strip() # 다시 양쪽 공백을 지우기\n",
    "    sentence = re.sub(r'\\([^)]*\\)', '', sentence) # 괄호 및 특수문자 포함한 사이 글자 지우기\n",
    "    #sentence = sentence.strip('Ooh''ooh') # Ooh삭제\n",
    "    sentence = '<start> ' + sentence + ' <end>' #문장 시작에는 <start>, 끝에는 <end>를 추가\n",
    "    \n",
    "    \n",
    "    return sentence\n",
    "\n",
    "print(preprocess_sentence(raw_corpus[0]))   # 문장이 어떻게 필터링되는지 확인"
   ]
  },
  {
   "cell_type": "markdown",
   "id": "instructional-matrix",
   "metadata": {},
   "source": [
    "- 길이가 짧은 단어\n",
    "- 데이터 정제 참고 사이트: https://wikidocs.net/21693, https://velog.io/@ash3767/python-%EC%A0%95%EA%B7%9C%EC%8B%9D"
   ]
  },
  {
   "cell_type": "code",
   "execution_count": 3,
   "id": "interior-marble",
   "metadata": {},
   "outputs": [
    {
     "data": {
      "text/plain": [
       "['<start> i grew strong <end>',\n",
       " '<start> i will survive <end>',\n",
       " '<start> yeah <end>',\n",
       " '<start> yeah , yeah <end>',\n",
       " '<start> and you see me <end>',\n",
       " '<start> well now go , <end>',\n",
       " '<start> oh not i , <end>',\n",
       " '<start> i will survive <end>',\n",
       " '<start> yeah , yeah <end>',\n",
       " '<start> up <end>',\n",
       " '<start> up <end>',\n",
       " '<start> yow , yow , yow <end>',\n",
       " '<start> i don t wanna <end>',\n",
       " '<start> i don t wanna <end>',\n",
       " '<start> yeah , ho , yow <end>']"
      ]
     },
     "execution_count": 3,
     "metadata": {},
     "output_type": "execute_result"
    }
   ],
   "source": [
    "#정제된 corpus 생성\n",
    "\n",
    "corpus = []\n",
    "\n",
    "for sentence in raw_corpus:\n",
    "    #우리가 원하지 않는 문장을 건너뛰기\n",
    "    if len(sentence) ==0: continue     #공백 문장 제외\n",
    "    if len(sentence) >=15: continue    #길이가 15개가 넘는 것은 제외\n",
    "    if sentence[-1] ==\":\": continue    #문장의 끝이 : 인 문장은 건너뛰기.\n",
    "        \n",
    "    # 정제를 하고 담아주기\n",
    "    preprocessed_sentence = preprocess_sentence(sentence)\n",
    "    corpus.append(preprocessed_sentence)\n",
    "                  \n",
    "                  \n",
    "    #정제된 결과 15개만 확인\n",
    "corpus[:15]"
   ]
  },
  {
   "cell_type": "code",
   "execution_count": 4,
   "id": "rocky-israel",
   "metadata": {},
   "outputs": [],
   "source": [
    "#토큰화\n",
    "\n",
    "def tokenize(corpus):\n",
    "    # 텐서플로우에서 제공하는 Tokenizer 패키지를 생성\n",
    "    tokenizer = tf.keras.preprocessing.text.Tokenizer(\n",
    "        num_words=12000,   # 전체 단어의 개수 \n",
    "        filters=' ',       # 별도로 전처리 로직을 추가할 수 있습니다. 이번에는 사용하지 않겠습니다.\n",
    "        oov_token=\"<unk>\"  # out-of-vocabulary, 사전에 없었던 단어는 어떤 토큰으로 대체할지\n",
    "    )\n",
    "    tokenizer.fit_on_texts(corpus)   # 우리가 구축한 corpus로부터 Tokenizer가 사전을 자동구축하게 됩니다.\n",
    "\n",
    "    # 이후 tokenizer를 활용하여 모델에 입력할 데이터셋을 구축하게 됩니다.\n",
    "    tensor = tokenizer.texts_to_sequences(corpus)   # tokenizer는 구축한 사전으로부터 corpus를 해석해 Tensor로 변환합니다.\n",
    "\n",
    "    # padding으로 입력 데이터의 시퀀스 길이를 일정하게 맞추기 (maxlen 15로 설정) \n",
    "    tensor = tf.keras.preprocessing.sequence.pad_sequences(tensor, padding='post', maxlen=15)  \n",
    "\n",
    "    return tensor, tokenizer\n",
    "\n",
    "tensor, tokenizer = tokenize(corpus)\n"
   ]
  },
  {
   "cell_type": "code",
   "execution_count": 5,
   "id": "alpine-emperor",
   "metadata": {},
   "outputs": [
    {
     "name": "stdout",
     "output_type": "stream",
     "text": [
      "[[  2   4 910 483   3   0   0   0   0   0]\n",
      " [  2   4 116 484   3   0   0   0   0   0]\n",
      " [  2  13   3   0   0   0   0   0   0   0]]\n"
     ]
    },
    {
     "data": {
      "text/plain": [
       "(12147, 15)"
      ]
     },
     "execution_count": 5,
     "metadata": {},
     "output_type": "execute_result"
    }
   ],
   "source": [
    "print(tensor[:3,:10]) #tokenizer에 구축된 단어 사전의 인덱스\n",
    "tensor.shape"
   ]
  },
  {
   "cell_type": "code",
   "execution_count": 6,
   "id": "compliant-orleans",
   "metadata": {},
   "outputs": [
    {
     "name": "stdout",
     "output_type": "stream",
     "text": [
      "1 : <unk>\n",
      "2 : <start>\n",
      "3 : <end>\n",
      "4 : i\n",
      "5 : ,\n",
      "6 : .\n",
      "7 : oh\n",
      "8 : you\n",
      "9 : it\n",
      "10 : me\n"
     ]
    }
   ],
   "source": [
    "# 단어 사전이 어떻게 구축되었는지 확인 방법\n",
    "for idx in tokenizer.index_word:\n",
    "    print(idx, \":\", tokenizer.index_word[idx])\n",
    "    if idx >= 10: break     "
   ]
  },
  {
   "cell_type": "code",
   "execution_count": 7,
   "id": "periodic-california",
   "metadata": {},
   "outputs": [
    {
     "name": "stdout",
     "output_type": "stream",
     "text": [
      "[  2   4 910 483   3   0   0   0   0   0   0   0   0   0]\n",
      "[  4 910 483   3   0   0   0   0   0   0   0   0   0   0]\n"
     ]
    }
   ],
   "source": [
    "# tensor에서 마지막 토큰을 잘라내서 소스 문장을 생성합니다\n",
    "# 마지막 토큰은 <end>가 아니라 <pad>일 가능성이 높습니다.\n",
    "src_input = tensor[:, :-1]  \n",
    "# tensor에서 <start>를 잘라내서 타겟 문장을 생성합니다.\n",
    "tgt_input = tensor[:, 1:]    \n",
    "\n",
    "print(src_input[0])\n",
    "print(tgt_input[0])\n",
    "\n",
    "# 소스는 2(<start>)에서 시작해서 3(<end>)으로 끝난 후 0(<pad>)로 채워져 있습니다. "
   ]
  },
  {
   "cell_type": "markdown",
   "id": "fitted-portfolio",
   "metadata": {},
   "source": [
    "# 평가 데이터셋 분리"
   ]
  },
  {
   "cell_type": "code",
   "execution_count": 8,
   "id": "upper-block",
   "metadata": {},
   "outputs": [
    {
     "name": "stdout",
     "output_type": "stream",
     "text": [
      "enc_train 개수:  9717 ,dec_val 개수: 2430\n"
     ]
    }
   ],
   "source": [
    "from sklearn.model_selection import train_test_split\n",
    "\n",
    "enc_train, enc_val, dec_train, dec_val = train_test_split(src_input,tgt_input,test_size=0.2)\n",
    "print('enc_train 개수: ',len(enc_train), ',dec_val 개수:', len(dec_val))"
   ]
  },
  {
   "cell_type": "code",
   "execution_count": 9,
   "id": "outdoor-boutique",
   "metadata": {},
   "outputs": [
    {
     "name": "stdout",
     "output_type": "stream",
     "text": [
      "Source Train: (9717, 14)\n",
      "Target Train: (9717, 14)\n"
     ]
    }
   ],
   "source": [
    "print(\"Source Train:\", enc_train.shape)\n",
    "print(\"Target Train:\", dec_train.shape)"
   ]
  },
  {
   "cell_type": "code",
   "execution_count": 10,
   "id": "demonstrated-aviation",
   "metadata": {},
   "outputs": [
    {
     "data": {
      "text/plain": [
       "<BatchDataset shapes: ((256, 14), (256, 14)), types: (tf.int32, tf.int32)>"
      ]
     },
     "execution_count": 10,
     "metadata": {},
     "output_type": "execute_result"
    }
   ],
   "source": [
    "BUFFER_SIZE = len(src_input)\n",
    "BATCH_SIZE = 256\n",
    "steps_per_epoch = len(src_input) // BATCH_SIZE\n",
    "\n",
    " # tokenizer가 구축한 단어사전 내 12000개와, 여기 포함되지 않은 0:<pad>를 포함하여 12001개\n",
    "VOCAB_SIZE = tokenizer.num_words + 1   \n",
    "\n",
    "# 준비한 데이터 소스로부터 데이터셋을 만듭니다\n",
    "# 데이터셋에 대해서는 아래 문서를 참고하세요\n",
    "# 자세히 알아둘수록 도움이 많이 되는 중요한 문서입니다\n",
    "# https://www.tensorflow.org/api_docs/python/tf/data/Dataset\n",
    "dataset = tf.data.Dataset.from_tensor_slices((src_input, tgt_input))\n",
    "dataset = dataset.shuffle(BUFFER_SIZE)\n",
    "dataset = dataset.batch(BATCH_SIZE, drop_remainder=True)\n",
    "dataset\n"
   ]
  },
  {
   "cell_type": "markdown",
   "id": "descending-engagement",
   "metadata": {},
   "source": [
    "# 인공지능 만들기"
   ]
  },
  {
   "cell_type": "code",
   "execution_count": 11,
   "id": "important-magazine",
   "metadata": {},
   "outputs": [
    {
     "name": "stdout",
     "output_type": "stream",
     "text": [
      "Model: \"text_generator\"\n",
      "_________________________________________________________________\n",
      "Layer (type)                 Output Shape              Param #   \n",
      "=================================================================\n",
      "embedding (Embedding)        multiple                  3072256   \n",
      "_________________________________________________________________\n",
      "lstm (LSTM)                  multiple                  5246976   \n",
      "_________________________________________________________________\n",
      "lstm_1 (LSTM)                multiple                  8392704   \n",
      "_________________________________________________________________\n",
      "dense (Dense)                multiple                  12301025  \n",
      "=================================================================\n",
      "Total params: 29,012,961\n",
      "Trainable params: 29,012,961\n",
      "Non-trainable params: 0\n",
      "_________________________________________________________________\n"
     ]
    }
   ],
   "source": [
    "class TextGenerator(tf.keras.Model):\n",
    "    def __init__(self, vocab_size, embedding_size, hidden_size):\n",
    "        super().__init__()\n",
    "        \n",
    "        #embedding은 문자를 숫자로 바꾸는 것\n",
    "        self.embedding = tf.keras.layers.Embedding(vocab_size, embedding_size)\n",
    "        self.rnn_1 = tf.keras.layers.LSTM(hidden_size, return_sequences=True)\n",
    "        self.rnn_2 = tf.keras.layers.LSTM(hidden_size, return_sequences=True)\n",
    "        self.linear = tf.keras.layers.Dense(vocab_size)\n",
    "        \n",
    "    def call(self, x):\n",
    "        out = self.embedding(x)\n",
    "        out = self.rnn_1(out)\n",
    "        out = self.rnn_2(out)\n",
    "        out = self.linear(out)\n",
    "        \n",
    "        return out\n",
    "    \n",
    "embedding_size = 256 # embedding_size 는 워드 벡터의 차원수, 단어가 추상적으로 표현되는 크기, 너무 크면 혼란이 된다.\n",
    "hidden_size = 1024 # LSTM 레이어의 hidden state 의 차원수\n",
    "model = TextGenerator(tokenizer.num_words + 1, embedding_size , hidden_size)\n",
    "\n",
    "\n",
    " #데이터셋에서 데이터 한 배치만 불러오는 방법입니다.\n",
    "# 지금은 동작 원리에 너무 빠져들지 마세요~\n",
    "for src_sample, tgt_sample in dataset.take(1): break\n",
    "\n",
    "# 한 배치만 불러온 데이터를 모델에 넣어봅니다\n",
    "model(src_sample)\n",
    "\n",
    "\n",
    "model.summary()\n",
    "#모델은 입력 시퀀스의 길이를 모르기 때문에 Output Shape를 특정할 수 없는 것\n",
    "# 모델의 파라미터 사이즈는 측정됩니다. 대략 29million "
   ]
  },
  {
   "cell_type": "code",
   "execution_count": 12,
   "id": "healthy-gravity",
   "metadata": {},
   "outputs": [
    {
     "name": "stdout",
     "output_type": "stream",
     "text": [
      "Epoch 1/30\n",
      "47/47 [==============================] - 17s 313ms/step - loss: 4.1506\n",
      "Epoch 2/30\n",
      "47/47 [==============================] - 15s 312ms/step - loss: 1.4817\n",
      "Epoch 3/30\n",
      "47/47 [==============================] - 15s 316ms/step - loss: 1.2245\n",
      "Epoch 4/30\n",
      "47/47 [==============================] - 15s 315ms/step - loss: 1.1368\n",
      "Epoch 5/30\n",
      "47/47 [==============================] - 15s 319ms/step - loss: 1.1071\n",
      "Epoch 6/30\n",
      "47/47 [==============================] - 15s 319ms/step - loss: 1.0765\n",
      "Epoch 7/30\n",
      "47/47 [==============================] - 15s 322ms/step - loss: 1.0582\n",
      "Epoch 8/30\n",
      "47/47 [==============================] - 15s 324ms/step - loss: 1.0293\n",
      "Epoch 9/30\n",
      "47/47 [==============================] - 15s 325ms/step - loss: 1.0084\n",
      "Epoch 10/30\n",
      "47/47 [==============================] - 15s 326ms/step - loss: 0.9898\n",
      "Epoch 11/30\n",
      "47/47 [==============================] - 15s 326ms/step - loss: 0.9740\n",
      "Epoch 12/30\n",
      "47/47 [==============================] - 15s 327ms/step - loss: 0.9552\n",
      "Epoch 13/30\n",
      "47/47 [==============================] - 15s 327ms/step - loss: 0.9395\n",
      "Epoch 14/30\n",
      "47/47 [==============================] - 15s 328ms/step - loss: 0.9265\n",
      "Epoch 15/30\n",
      "47/47 [==============================] - 15s 327ms/step - loss: 0.9203\n",
      "Epoch 16/30\n",
      "47/47 [==============================] - 15s 327ms/step - loss: 0.8936\n",
      "Epoch 17/30\n",
      "47/47 [==============================] - 15s 328ms/step - loss: 0.8959\n",
      "Epoch 18/30\n",
      "47/47 [==============================] - 15s 327ms/step - loss: 0.8740\n",
      "Epoch 19/30\n",
      "47/47 [==============================] - 15s 328ms/step - loss: 0.8627\n",
      "Epoch 20/30\n",
      "47/47 [==============================] - 15s 328ms/step - loss: 0.8470\n",
      "Epoch 21/30\n",
      "47/47 [==============================] - 15s 328ms/step - loss: 0.8419\n",
      "Epoch 22/30\n",
      "47/47 [==============================] - 16s 330ms/step - loss: 0.8324\n",
      "Epoch 23/30\n",
      "47/47 [==============================] - 15s 329ms/step - loss: 0.8195\n",
      "Epoch 24/30\n",
      "47/47 [==============================] - 15s 329ms/step - loss: 0.8118\n",
      "Epoch 25/30\n",
      "47/47 [==============================] - 15s 329ms/step - loss: 0.7962\n",
      "Epoch 26/30\n",
      "47/47 [==============================] - 15s 328ms/step - loss: 0.7926\n",
      "Epoch 27/30\n",
      "47/47 [==============================] - 15s 329ms/step - loss: 0.7817\n",
      "Epoch 28/30\n",
      "47/47 [==============================] - 15s 328ms/step - loss: 0.7705\n",
      "Epoch 29/30\n",
      "47/47 [==============================] - 15s 328ms/step - loss: 0.7686\n",
      "Epoch 30/30\n",
      "47/47 [==============================] - 15s 328ms/step - loss: 0.7520\n"
     ]
    },
    {
     "data": {
      "text/plain": [
       "<tensorflow.python.keras.callbacks.History at 0x7f99107ccfd0>"
      ]
     },
     "execution_count": 12,
     "metadata": {},
     "output_type": "execute_result"
    }
   ],
   "source": [
    "# optimizer와 loss등은 차차 배웁니다\n",
    "# 혹시 미리 알고 싶다면 아래 문서를 참고하세요\n",
    "# https://www.tensorflow.org/api_docs/python/tf/keras/optimizers\n",
    "# https://www.tensorflow.org/api_docs/python/tf/keras/losses\n",
    "# 양이 상당히 많은 편이니 지금 보는 것은 추천하지 않습니다\n",
    "optimizer = tf.keras.optimizers.Adam()\n",
    "loss = tf.keras.losses.SparseCategoricalCrossentropy(\n",
    "    from_logits=True, reduction='none')\n",
    "\n",
    "model.compile(loss=loss, optimizer=optimizer)\n",
    "model.fit(dataset, epochs=30)"
   ]
  },
  {
   "cell_type": "markdown",
   "id": "enhanced-attendance",
   "metadata": {},
   "source": [
    "# 평가하기"
   ]
  },
  {
   "cell_type": "code",
   "execution_count": 13,
   "id": "right-fruit",
   "metadata": {},
   "outputs": [],
   "source": [
    "def generate_text(lyricist, tokenizer, init_sentence=\"<start> i love\", max_len=20):\n",
    "    # 테스트를 위해서 입력받은 init_sentence도 텐서로 변환합니다\n",
    "    test_input = tokenizer.texts_to_sequences([init_sentence])\n",
    "    test_tensor = tf.convert_to_tensor(test_input, dtype=tf.int64)\n",
    "    end_token = tokenizer.word_index[\"<end>\"]\n",
    "    \n",
    "      # 단어 하나씩 예측해 문장을 만듭니다\n",
    "    #    1. 입력받은 문장의 텐서를 입력합니다\n",
    "    #    2. 예측된 값 중 가장 높은 확률인 word index를 뽑아냅니다\n",
    "    #    3. 2에서 예측된 word index를 문장 뒤에 붙입니다\n",
    "    #    4. 모델이 <end>를 예측했거나, max_len에 도달했다면 문장 생성을 마칩니다\n",
    "    while True:\n",
    "        # 1\n",
    "        predict = model(test_tensor) \n",
    "        # 2\n",
    "        predict_word = tf.argmax(tf.nn.softmax(predict, axis=-1), axis=-1)[:, -1] \n",
    "        # 3 \n",
    "        test_tensor = tf.concat([test_tensor, tf.expand_dims(predict_word, axis=0)], axis=-1)\n",
    "        # 4\n",
    "        if predict_word.numpy()[0] == end_token: break\n",
    "        if test_tensor.shape[1] >= max_len: break\n",
    "\n",
    "    generated = \"\"\n",
    "    # tokenizer를 이용해 word index를 단어로 하나씩 변환합니다 \n",
    "    # for문을 통해서 \n",
    "    for word_index in test_tensor[0].numpy():\n",
    "        generated += tokenizer.index_word[word_index] + \" \"\n",
    "\n",
    "    return generated"
   ]
  },
  {
   "cell_type": "code",
   "execution_count": 14,
   "id": "caring-jackson",
   "metadata": {},
   "outputs": [
    {
     "data": {
      "text/plain": [
       "'<start> i love you <end> '"
      ]
     },
     "execution_count": 14,
     "metadata": {},
     "output_type": "execute_result"
    }
   ],
   "source": [
    "generate_text(model, tokenizer, init_sentence=\"<start> i love\", max_len=20)"
   ]
  },
  {
   "cell_type": "code",
   "execution_count": 15,
   "id": "thermal-tsunami",
   "metadata": {},
   "outputs": [
    {
     "data": {
      "text/plain": [
       "'<start> i m a survivor <end> '"
      ]
     },
     "execution_count": 15,
     "metadata": {},
     "output_type": "execute_result"
    }
   ],
   "source": [
    "generate_text(model, tokenizer, init_sentence=\"<start> i\", max_len=20)"
   ]
  },
  {
   "cell_type": "code",
   "execution_count": 16,
   "id": "regular-enhancement",
   "metadata": {},
   "outputs": [
    {
     "data": {
      "text/plain": [
       "'<start> you re the one <end> '"
      ]
     },
     "execution_count": 16,
     "metadata": {},
     "output_type": "execute_result"
    }
   ],
   "source": [
    "generate_text(model, tokenizer, init_sentence=\"<start> you \", max_len=20)"
   ]
  },
  {
   "cell_type": "code",
   "execution_count": 18,
   "id": "impressive-flower",
   "metadata": {},
   "outputs": [
    {
     "data": {
      "text/plain": [
       "'<start> summer s all right <end> '"
      ]
     },
     "execution_count": 18,
     "metadata": {},
     "output_type": "execute_result"
    }
   ],
   "source": [
    "generate_text(model, tokenizer, init_sentence=\"<start> summer \", max_len=20)"
   ]
  },
  {
   "cell_type": "markdown",
   "id": "charming-macintosh",
   "metadata": {},
   "source": [
    "## 회고\n",
    "- text에서는 데이터 정제하는 것이 중요 "
   ]
  }
 ],
 "metadata": {
  "kernelspec": {
   "display_name": "Python 3",
   "language": "python",
   "name": "python3"
  },
  "language_info": {
   "codemirror_mode": {
    "name": "ipython",
    "version": 3
   },
   "file_extension": ".py",
   "mimetype": "text/x-python",
   "name": "python",
   "nbconvert_exporter": "python",
   "pygments_lexer": "ipython3",
   "version": "3.7.9"
  }
 },
 "nbformat": 4,
 "nbformat_minor": 5
}
